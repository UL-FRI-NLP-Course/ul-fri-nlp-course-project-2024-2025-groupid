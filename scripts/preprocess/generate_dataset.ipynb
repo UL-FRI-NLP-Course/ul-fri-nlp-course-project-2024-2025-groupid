{
 "cells": [
  {
   "cell_type": "code",
   "execution_count": 20,
   "id": "e2cd4ef3",
   "metadata": {},
   "outputs": [],
   "source": [
    "import pandas as pd\n",
    "import json\n",
    "from pathlib import Path\n",
    "\n",
    "EVENTS_PATH = Path(\"../../data/processed/events.json\")\n",
    "REPORTS_PATH = Path(\"../../data/processed/reports.json\")\n",
    "OUTPUT_PATH = Path(\"../../data/processed/dataset.json\")\n",
    "\n",
    "events_df = pd.read_json(EVENTS_PATH)\n",
    "reports_df = pd.read_json(REPORTS_PATH)\n",
    "\n",
    "events_df['timestamp'] = pd.to_datetime(events_df['timestamp'], errors='coerce')\n",
    "reports_df['timestamp'] = pd.to_datetime(reports_df['timestamp'], errors='coerce')\n",
    "\n",
    "# We asumme events.json and reports.json are already sorted\n",
    "# events_df = events_df.sort_values('timestamp')\n",
    "# reports_df = reports_df.sort_values('timestamp')"
   ]
  },
  {
   "cell_type": "code",
   "execution_count": null,
   "id": "87f1e9c2",
   "metadata": {},
   "outputs": [
    {
     "data": {
      "text/plain": [
       "{'input': 'Vreme Ponekod po Sloveniji megla v pasovih zmanjšuje vidljivost. Prilagodite hitrost! Omejitve za tovorna vozila Po Sloveniji velja med prazniki omejitev za tovorna vozila z največjo dovoljeno maso nad 7,5 ton: - danes, 1. 1., od 8. do 22. ure; - v nedeljo, 2. 1., od 8. do 22. ure. Od 30. decembra je v veljavi sprememba omejitve za tovorna vozila nad 7,5 ton. Več. Dela Na primorski avtocesti je ponovno odprt priključek Črni Kal v obe smeri. Omejitve za tovorna vozila Po Sloveniji velja med prazniki omejitev za tovorna vozila z največjo dovoljeno maso nad 7,5 ton: - danes, od 8. do 22. ure; - v nedeljo, 2. 1., od 8. do 22. ure.',\n",
       " 'groundtruth': 'Podatki o prometu.\\nPonekod po državi megla zmanjšuje vidljivost.\\nZaradi del je na vzhodni mariborski obvoznici v obe smeri zaprt prehitevalni pas med razcepom Dragučova in priključkom Pesnica.\\n\\x00'}"
      ]
     },
     "execution_count": 24,
     "metadata": {},
     "output_type": "execute_result"
    }
   ],
   "source": [
    "import re\n",
    "\n",
    "N_EVENTS = 2\n",
    "\n",
    "def unique_sentences(text):\n",
    "    if not text:\n",
    "        return \"\"\n",
    "    \n",
    "    # Use regex to split on ., !, ? followed by space or end of string\n",
    "    raw_sentences = re.split(r'(?<=[.!?;])\\s+(?=[A-ZŠŽČĆĐ])', text.strip())\n",
    "\n",
    "    seen = set()\n",
    "    unique = []\n",
    "\n",
    "    for s in raw_sentences:\n",
    "        normalized = s.strip().rstrip('.!?').strip().lower()\n",
    "        if normalized and normalized not in seen:\n",
    "            seen.add(normalized)\n",
    "            unique.append(s.strip())\n",
    "\n",
    "    return \" \".join(unique)\n",
    "\n",
    "def get_last_n_events(n, before_time):\n",
    "    filtered = events_df[events_df['timestamp'] < before_time].tail(n)\n",
    "    combined_texts = []\n",
    "\n",
    "    for _, row in filtered.iterrows():\n",
    "        notice = str(row.get('priority_notices', '')).strip()\n",
    "        summary = str(row.get('general_summary', '')).strip()\n",
    "\n",
    "        if notice:\n",
    "            combined = f\"{notice}. {summary}\" if summary else notice\n",
    "        else:\n",
    "            combined = summary\n",
    "\n",
    "        combined_texts.append(combined)\n",
    "\n",
    "    return \"\\n\".join(combined_texts)\n",
    "\n",
    "training_dataset = []\n",
    "for _, report in reports_df.iterrows():\n",
    "    event_text = get_last_n_events(N_EVENTS, report['timestamp'])\n",
    "    cleaned_input = unique_sentences(event_text)\n",
    "    cleaned_output = report['report'].strip()\n",
    "    if cleaned_input and cleaned_output:\n",
    "        training_dataset.append({\n",
    "            \"input\": cleaned_input,\n",
    "            \"groundtruth\": cleaned_output\n",
    "        })\n",
    "\n",
    "training_dataset[0]\n",
    "\n"
   ]
  },
  {
   "cell_type": "code",
   "execution_count": 25,
   "id": "c59defcd",
   "metadata": {},
   "outputs": [
    {
     "name": "stdout",
     "output_type": "stream",
     "text": [
      "Exported 27377 samples to ..\\..\\data\\processed\\dataset.json\n"
     ]
    }
   ],
   "source": [
    "import json\n",
    "\n",
    "with open(OUTPUT_PATH, \"w\", encoding=\"utf-8\") as f:\n",
    "    json.dump(training_dataset, f, ensure_ascii=False, indent=2)\n",
    "\n",
    "print(f\"Exported {len(training_dataset)} samples to {OUTPUT_PATH}\")"
   ]
  }
 ],
 "metadata": {
  "kernelspec": {
   "display_name": "venv",
   "language": "python",
   "name": "python3"
  },
  "language_info": {
   "codemirror_mode": {
    "name": "ipython",
    "version": 3
   },
   "file_extension": ".py",
   "mimetype": "text/x-python",
   "name": "python",
   "nbconvert_exporter": "python",
   "pygments_lexer": "ipython3",
   "version": "3.13.2"
  }
 },
 "nbformat": 4,
 "nbformat_minor": 5
}
