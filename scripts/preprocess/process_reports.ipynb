{
 "cells": [
  {
   "cell_type": "code",
   "execution_count": 2,
   "id": "c6f43801",
   "metadata": {},
   "outputs": [
    {
     "name": "stdout",
     "output_type": "stream",
     "text": [
      "28037/n"
     ]
    }
   ],
   "source": [
    "import os/n",
    "import pandas as pd/n",
    "from pathlib import Path/n",
    "import re/n",
    "/n",
    "INPUT_DIR = Path(/"../data/raw/Podatki - rtvslo.si//")/n",
    "OUTPUT_PATH = Path(/"../data/processed/reports.json/")/n",
    "/n",
    "def get_all_rtf_files(input_dir):/n",
    "    return [os.path.join(root, f)/n",
    "            for root, _, files in os.walk(input_dir)/n",
    "            for f in files if f.lower().endswith(/".rtf/")]/n",
    "/n",
    "files = get_all_rtf_files(INPUT_DIR)/n",
    "/n",
    "print(len(files))"
   ]
  },
  {
   "cell_type": "code",
   "execution_count": 4,
   "id": "bff7a838",
   "metadata": {},
   "outputs": [
    {
     "name": "stdout",
     "output_type": "stream",
     "text": [
      "Prometne informacije   /t   30. 04. 2022        18.30               1. in 2. program/n",
      "/n",
      "Podatki o prometu./n",
      "/n",
      "Zaradi prometne nesreče je zaprta regionalna cesta Ajševica-Rožna Dolina, in to pri Ajševici./n",
      "/n",
      "Na mejnem prehodu Obrežje vozniki na vstop v državo čakajo do dve uri, v Gruškovju pa pol ure.  /n",
      "Povečan promet pri izstopu iz države pa je na prehodu Dobovec, na katerem vozniki čakajo uro in pol, ter na Obrežju in v Gruškovju, v katerem vozniki čakajo pol ure./n",
      "/u0000/n"
     ]
    }
   ],
   "source": [
    "from striprtf.striprtf import rtf_to_text/n",
    "/n",
    "def extract_text_from_rtf(filepath):/n",
    "    with open(filepath, 'r', encoding='utf-8', errors='ignore') as file:/n",
    "        raw_rtf = file.read()/n",
    "        return rtf_to_text(raw_rtf)/n",
    "    /n",
    "texts = [extract_text_from_rtf(file) for file in files]/n",
    "/n",
    "print(texts[0])"
   ]
  },
  {
   "cell_type": "code",
   "execution_count": 5,
   "id": "9c8490a7",
   "metadata": {},
   "outputs": [
    {
     "name": "stdout",
     "output_type": "stream",
     "text": [
      "Failed to parse datetime in '..//data//raw//Podatki - rtvslo.si//Promet 2022//September 2022//TMP-506.rtf': day is out of range for month: 00.09.2022 14:00, at position 0/n",
      "Failed to parse datetime in '..//data//raw//Podatki - rtvslo.si//Promet 2022//September 2022//TMP-507.rtf': day is out of range for month: 00.09.2022 13:30, at position 0/n",
      "Failed to parse datetime in '..//data//raw//Podatki - rtvslo.si//Promet 2022//September 2022//TMP-508.rtf': day is out of range for month: 00.09.2022 13:00, at position 0/n",
      "Failed to parse datetime in '..//data//raw//Podatki - rtvslo.si//Promet 2022//September 2022//TMP-509.rtf': day is out of range for month: 00.09.2022 12:30, at position 0/n",
      "Failed to parse datetime in '..//data//raw//Podatki - rtvslo.si//Promet 2022//September 2022//TMP-510.rtf': day is out of range for month: 00.09.2022 12:30, at position 0/n",
      "Failed to parse datetime in '..//data//raw//Podatki - rtvslo.si//Promet 2022//September 2022//TMP-511.rtf': day is out of range for month: 00.09.2022 12:00, at position 0/n",
      "Failed to parse datetime in '..//data//raw//Podatki - rtvslo.si//Promet 2022//September 2022//TMP-512.rtf': day is out of range for month: 00.09.2022 11:30, at position 0/n",
      "Failed to parse datetime in '..//data//raw//Podatki - rtvslo.si//Promet 2022//September 2022//TMP-513.rtf': day is out of range for month: 00.09.2022 11:00, at position 0/n",
      "Failed to parse datetime in '..//data//raw//Podatki - rtvslo.si//Promet 2022//September 2022//TMP-514.rtf': day is out of range for month: 00.09.2022 10:30, at position 0/n",
      "Failed to parse datetime in '..//data//raw//Podatki - rtvslo.si//Promet 2022//September 2022//TMP-515.rtf': day is out of range for month: 00.09.2022 10:00, at position 0/n",
      "Failed to parse datetime in '..//data//raw//Podatki - rtvslo.si//Promet 2022//September 2022//TMP-516.rtf': day is out of range for month: 00.09.2022 09:30, at position 0/n",
      "Failed to parse datetime in '..//data//raw//Podatki - rtvslo.si//Promet 2022//September 2022//TMP-517.rtf': day is out of range for month: 00.09.2022 09:00, at position 0/n",
      "Failed to parse datetime in '..//data//raw//Podatki - rtvslo.si//Promet 2022//September 2022//TMP-518.rtf': day is out of range for month: 00.09.2022 08:30, at position 0/n",
      "Failed to parse datetime in '..//data//raw//Podatki - rtvslo.si//Promet 2022//September 2022//TMP-519.rtf': day is out of range for month: 00.09.2022 08:00, at position 0/n",
      "Failed to parse datetime in '..//data//raw//Podatki - rtvslo.si//Promet 2022//September 2022//TMP-520.rtf': day is out of range for month: 00.09.2022 07:00, at position 0/n",
      "Failed to parse datetime in '..//data//raw//Podatki - rtvslo.si//Promet 2022//September 2022//TMP-521.rtf': day is out of range for month: 00.09.2022 06:30, at position 0/n",
      "Failed to parse datetime in '..//data//raw//Podatki - rtvslo.si//Promet 2022//September 2022//TMP-522.rtf': day is out of range for month: 00.09.2022 06:00, at position 0/n",
      "{'timestamp': Timestamp('2022-04-30 18:30:00'), 'report': 'Podatki o prometu.//nZaradi prometne nesreče je zaprta regionalna cesta Ajševica-Rožna Dolina, in to pri Ajševici.//nNa mejnem prehodu Obrežje vozniki na vstop v državo čakajo do dve uri, v Gruškovju pa pol ure.//nPovečan promet pri izstopu iz države pa je na prehodu Dobovec, na katerem vozniki čakajo uro in pol, ter na Obrežju in v Gruškovju, v katerem vozniki čakajo pol ure.//n//x00'}/n"
     ]
    }
   ],
   "source": [
    "DATETIME_PATTERN = re.compile(r'(//d{1,2})//.//s*(//d{1,2})//.//s*(//d{4})//s+(//d{4}|//d{1,2}[://.]//d{2})')/n",
    "/n",
    "def parse_report(filepath, text):/n",
    "    lines = [line.strip() for line in text.splitlines() if line.strip()]/n",
    "    header = lines[0] if lines else /"/"/n",
    "    content = /"//n/".join(lines[1:])/n",
    "/n",
    "    dt = pd.NaT/n",
    "    match = DATETIME_PATTERN.search(header)/n",
    "    if match:/n",
    "        day, month, year, time_part = match.groups()/n",
    "        try:/n",
    "            if re.fullmatch(r'//d{4}', time_part):/n",
    "                hour, minute = time_part[:2], time_part[2:]/n",
    "            else:/n",
    "                hour, minute = re.split(r'[://.]', time_part)/n",
    "/n",
    "            dt = pd.to_datetime(f/"{day}.{month}.{year} {hour}:{minute}/", dayfirst=True)/n",
    "        except Exception as e:/n",
    "            print(f/"Failed to parse datetime in '{filepath}': {e}/")/n",
    "/n",
    "    return {/"timestamp/": dt, /"report/": content.strip()}/n",
    "/n",
    "reports = zip(files, texts)/n",
    "/n",
    "records = [parse_report(file, text) for file, text in reports]/n",
    "/n",
    "print(records[0])"
   ]
  },
  {
   "cell_type": "code",
   "execution_count": null,
   "id": "d89363b4",
   "metadata": {},
   "outputs": [],
   "source": [
    "df = pd.DataFrame(records)/n",
    "/n",
    "# Sort/n",
    "df = df.sort_values('timestamp')/n",
    "/n",
    "# Export/n",
    "df.to_json(OUTPUT_PATH, orient=/"records/", indent=2, force_ascii=False, date_format=/"iso/")"
   ]
  }
 ],
 "metadata": {
  "kernelspec": {
   "display_name": "venv",
   "language": "python",
   "name": "python3"
  },
  "language_info": {
   "codemirror_mode": {
    "name": "ipython",
    "version": 3
   },
   "file_extension": ".py",
   "mimetype": "text/x-python",
   "name": "python",
   "nbconvert_exporter": "python",
   "pygments_lexer": "ipython3",
   "version": "3.13.2"
  }
 },
 "nbformat": 4,
 "nbformat_minor": 5
}
